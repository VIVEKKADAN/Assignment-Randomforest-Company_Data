{
 "cells": [
  {
   "cell_type": "markdown",
   "id": "129d3060",
   "metadata": {},
   "source": [
    "## Assignment Random Forest Company Data"
   ]
  },
  {
   "cell_type": "markdown",
   "id": "dc1853ca",
   "metadata": {},
   "source": [
    "Random Forest\n",
    " \n",
    "Assignment\n",
    "\n",
    "\n",
    "About the data: \n",
    "\n",
    "Let’s consider a Company dataset with around 10 variables and 400 records. \n",
    "\n",
    "The attributes are as follows: \n",
    "\n",
    "\n",
    " Sales -- Unit sales (in thousands) at each location\n",
    "\n",
    " Competitor Price -- Price charged by competitor at each location\n",
    "\n",
    " Income -- Community income level (in thousands of dollars)\n",
    "\n",
    " Advertising -- Local advertising budget for company at each location (in thousands of dollars)\n",
    "\n",
    " Population -- Population size in region (in thousands)\n",
    "\n",
    " Price -- Price company charges for car seats at each site\n",
    "\n",
    " Shelf Location at stores -- A factor with levels Bad, Good and Medium indicating the quality of the \n",
    "\n",
    "shelving location for the car seats at each site\n",
    "\n",
    " Age -- Average age of the local population\n",
    "\n",
    " Education -- Education level at each location\n",
    "\n",
    " Urban -- A factor with levels No and Yes to indicate whether the store is in an urban or rural \n",
    "\n",
    "location\n",
    "\n",
    " US -- A factor with levels No and Yes to indicate whether the store is in the US or not\n",
    "\n",
    "The company dataset looks like this: \n",
    "\n",
    "\n",
    "Problem Statement:\n",
    "\n",
    "A cloth manufacturing company is interested to know about the segment or attributes causes high sale. \n",
    "\n",
    "Approach - A Random Forest can be built with target variable Sales (we will first convert it in \n",
    "\n",
    "categorical variable) & all other variable will be independent in the analysis.  \n"
   ]
  },
  {
   "cell_type": "markdown",
   "id": "fd4894dc",
   "metadata": {},
   "source": [
    "### Importing Libraries"
   ]
  },
  {
   "cell_type": "code",
   "execution_count": 1,
   "id": "3486864d",
   "metadata": {},
   "outputs": [],
   "source": [
    "import pandas as pd\n",
    "import matplotlib.pyplot as plt\n",
    "import numpy as np\n",
    "import statistics as stats\n",
    "from sklearn.preprocessing import LabelEncoder\n",
    "from sklearn.model_selection import train_test_split,GridSearchCV,KFold,cross_val_score,cross_val_predict\n",
    "from sklearn import tree\n",
    "from sklearn.ensemble import RandomForestClassifier\n",
    "from sklearn.metrics import accuracy_score,classification_report"
   ]
  },
  {
   "cell_type": "code",
   "execution_count": 2,
   "id": "8f695d69",
   "metadata": {},
   "outputs": [],
   "source": [
    "Data=pd.read_csv(\"Company_Data.csv\")"
   ]
  },
  {
   "cell_type": "code",
   "execution_count": 3,
   "id": "3c6b5f46",
   "metadata": {},
   "outputs": [
    {
     "data": {
      "text/html": [
       "<div>\n",
       "<style scoped>\n",
       "    .dataframe tbody tr th:only-of-type {\n",
       "        vertical-align: middle;\n",
       "    }\n",
       "\n",
       "    .dataframe tbody tr th {\n",
       "        vertical-align: top;\n",
       "    }\n",
       "\n",
       "    .dataframe thead th {\n",
       "        text-align: right;\n",
       "    }\n",
       "</style>\n",
       "<table border=\"1\" class=\"dataframe\">\n",
       "  <thead>\n",
       "    <tr style=\"text-align: right;\">\n",
       "      <th></th>\n",
       "      <th>Sales</th>\n",
       "      <th>CompPrice</th>\n",
       "      <th>Income</th>\n",
       "      <th>Advertising</th>\n",
       "      <th>Population</th>\n",
       "      <th>Price</th>\n",
       "      <th>ShelveLoc</th>\n",
       "      <th>Age</th>\n",
       "      <th>Education</th>\n",
       "      <th>Urban</th>\n",
       "      <th>US</th>\n",
       "    </tr>\n",
       "  </thead>\n",
       "  <tbody>\n",
       "    <tr>\n",
       "      <th>0</th>\n",
       "      <td>9.50</td>\n",
       "      <td>138</td>\n",
       "      <td>73</td>\n",
       "      <td>11</td>\n",
       "      <td>276</td>\n",
       "      <td>120</td>\n",
       "      <td>Bad</td>\n",
       "      <td>42</td>\n",
       "      <td>17</td>\n",
       "      <td>Yes</td>\n",
       "      <td>Yes</td>\n",
       "    </tr>\n",
       "    <tr>\n",
       "      <th>1</th>\n",
       "      <td>11.22</td>\n",
       "      <td>111</td>\n",
       "      <td>48</td>\n",
       "      <td>16</td>\n",
       "      <td>260</td>\n",
       "      <td>83</td>\n",
       "      <td>Good</td>\n",
       "      <td>65</td>\n",
       "      <td>10</td>\n",
       "      <td>Yes</td>\n",
       "      <td>Yes</td>\n",
       "    </tr>\n",
       "    <tr>\n",
       "      <th>2</th>\n",
       "      <td>10.06</td>\n",
       "      <td>113</td>\n",
       "      <td>35</td>\n",
       "      <td>10</td>\n",
       "      <td>269</td>\n",
       "      <td>80</td>\n",
       "      <td>Medium</td>\n",
       "      <td>59</td>\n",
       "      <td>12</td>\n",
       "      <td>Yes</td>\n",
       "      <td>Yes</td>\n",
       "    </tr>\n",
       "    <tr>\n",
       "      <th>3</th>\n",
       "      <td>7.40</td>\n",
       "      <td>117</td>\n",
       "      <td>100</td>\n",
       "      <td>4</td>\n",
       "      <td>466</td>\n",
       "      <td>97</td>\n",
       "      <td>Medium</td>\n",
       "      <td>55</td>\n",
       "      <td>14</td>\n",
       "      <td>Yes</td>\n",
       "      <td>Yes</td>\n",
       "    </tr>\n",
       "    <tr>\n",
       "      <th>4</th>\n",
       "      <td>4.15</td>\n",
       "      <td>141</td>\n",
       "      <td>64</td>\n",
       "      <td>3</td>\n",
       "      <td>340</td>\n",
       "      <td>128</td>\n",
       "      <td>Bad</td>\n",
       "      <td>38</td>\n",
       "      <td>13</td>\n",
       "      <td>Yes</td>\n",
       "      <td>No</td>\n",
       "    </tr>\n",
       "    <tr>\n",
       "      <th>...</th>\n",
       "      <td>...</td>\n",
       "      <td>...</td>\n",
       "      <td>...</td>\n",
       "      <td>...</td>\n",
       "      <td>...</td>\n",
       "      <td>...</td>\n",
       "      <td>...</td>\n",
       "      <td>...</td>\n",
       "      <td>...</td>\n",
       "      <td>...</td>\n",
       "      <td>...</td>\n",
       "    </tr>\n",
       "    <tr>\n",
       "      <th>395</th>\n",
       "      <td>12.57</td>\n",
       "      <td>138</td>\n",
       "      <td>108</td>\n",
       "      <td>17</td>\n",
       "      <td>203</td>\n",
       "      <td>128</td>\n",
       "      <td>Good</td>\n",
       "      <td>33</td>\n",
       "      <td>14</td>\n",
       "      <td>Yes</td>\n",
       "      <td>Yes</td>\n",
       "    </tr>\n",
       "    <tr>\n",
       "      <th>396</th>\n",
       "      <td>6.14</td>\n",
       "      <td>139</td>\n",
       "      <td>23</td>\n",
       "      <td>3</td>\n",
       "      <td>37</td>\n",
       "      <td>120</td>\n",
       "      <td>Medium</td>\n",
       "      <td>55</td>\n",
       "      <td>11</td>\n",
       "      <td>No</td>\n",
       "      <td>Yes</td>\n",
       "    </tr>\n",
       "    <tr>\n",
       "      <th>397</th>\n",
       "      <td>7.41</td>\n",
       "      <td>162</td>\n",
       "      <td>26</td>\n",
       "      <td>12</td>\n",
       "      <td>368</td>\n",
       "      <td>159</td>\n",
       "      <td>Medium</td>\n",
       "      <td>40</td>\n",
       "      <td>18</td>\n",
       "      <td>Yes</td>\n",
       "      <td>Yes</td>\n",
       "    </tr>\n",
       "    <tr>\n",
       "      <th>398</th>\n",
       "      <td>5.94</td>\n",
       "      <td>100</td>\n",
       "      <td>79</td>\n",
       "      <td>7</td>\n",
       "      <td>284</td>\n",
       "      <td>95</td>\n",
       "      <td>Bad</td>\n",
       "      <td>50</td>\n",
       "      <td>12</td>\n",
       "      <td>Yes</td>\n",
       "      <td>Yes</td>\n",
       "    </tr>\n",
       "    <tr>\n",
       "      <th>399</th>\n",
       "      <td>9.71</td>\n",
       "      <td>134</td>\n",
       "      <td>37</td>\n",
       "      <td>0</td>\n",
       "      <td>27</td>\n",
       "      <td>120</td>\n",
       "      <td>Good</td>\n",
       "      <td>49</td>\n",
       "      <td>16</td>\n",
       "      <td>Yes</td>\n",
       "      <td>Yes</td>\n",
       "    </tr>\n",
       "  </tbody>\n",
       "</table>\n",
       "<p>400 rows × 11 columns</p>\n",
       "</div>"
      ],
      "text/plain": [
       "     Sales  CompPrice  Income  Advertising  Population  Price ShelveLoc  Age  \\\n",
       "0     9.50        138      73           11         276    120       Bad   42   \n",
       "1    11.22        111      48           16         260     83      Good   65   \n",
       "2    10.06        113      35           10         269     80    Medium   59   \n",
       "3     7.40        117     100            4         466     97    Medium   55   \n",
       "4     4.15        141      64            3         340    128       Bad   38   \n",
       "..     ...        ...     ...          ...         ...    ...       ...  ...   \n",
       "395  12.57        138     108           17         203    128      Good   33   \n",
       "396   6.14        139      23            3          37    120    Medium   55   \n",
       "397   7.41        162      26           12         368    159    Medium   40   \n",
       "398   5.94        100      79            7         284     95       Bad   50   \n",
       "399   9.71        134      37            0          27    120      Good   49   \n",
       "\n",
       "     Education Urban   US  \n",
       "0           17   Yes  Yes  \n",
       "1           10   Yes  Yes  \n",
       "2           12   Yes  Yes  \n",
       "3           14   Yes  Yes  \n",
       "4           13   Yes   No  \n",
       "..         ...   ...  ...  \n",
       "395         14   Yes  Yes  \n",
       "396         11    No  Yes  \n",
       "397         18   Yes  Yes  \n",
       "398         12   Yes  Yes  \n",
       "399         16   Yes  Yes  \n",
       "\n",
       "[400 rows x 11 columns]"
      ]
     },
     "execution_count": 3,
     "metadata": {},
     "output_type": "execute_result"
    }
   ],
   "source": [
    "Data"
   ]
  },
  {
   "cell_type": "code",
   "execution_count": 4,
   "id": "4b4f2a5c",
   "metadata": {},
   "outputs": [
    {
     "name": "stdout",
     "output_type": "stream",
     "text": [
      "<class 'pandas.core.frame.DataFrame'>\n",
      "RangeIndex: 400 entries, 0 to 399\n",
      "Data columns (total 11 columns):\n",
      " #   Column       Non-Null Count  Dtype  \n",
      "---  ------       --------------  -----  \n",
      " 0   Sales        400 non-null    float64\n",
      " 1   CompPrice    400 non-null    int64  \n",
      " 2   Income       400 non-null    int64  \n",
      " 3   Advertising  400 non-null    int64  \n",
      " 4   Population   400 non-null    int64  \n",
      " 5   Price        400 non-null    int64  \n",
      " 6   ShelveLoc    400 non-null    object \n",
      " 7   Age          400 non-null    int64  \n",
      " 8   Education    400 non-null    int64  \n",
      " 9   Urban        400 non-null    object \n",
      " 10  US           400 non-null    object \n",
      "dtypes: float64(1), int64(7), object(3)\n",
      "memory usage: 34.5+ KB\n"
     ]
    }
   ],
   "source": [
    "Data.info()"
   ]
  },
  {
   "cell_type": "code",
   "execution_count": 5,
   "id": "0c5d670a",
   "metadata": {},
   "outputs": [
    {
     "data": {
      "text/html": [
       "<div>\n",
       "<style scoped>\n",
       "    .dataframe tbody tr th:only-of-type {\n",
       "        vertical-align: middle;\n",
       "    }\n",
       "\n",
       "    .dataframe tbody tr th {\n",
       "        vertical-align: top;\n",
       "    }\n",
       "\n",
       "    .dataframe thead th {\n",
       "        text-align: right;\n",
       "    }\n",
       "</style>\n",
       "<table border=\"1\" class=\"dataframe\">\n",
       "  <thead>\n",
       "    <tr style=\"text-align: right;\">\n",
       "      <th></th>\n",
       "      <th>Sales</th>\n",
       "      <th>CompPrice</th>\n",
       "      <th>Income</th>\n",
       "      <th>Advertising</th>\n",
       "      <th>Population</th>\n",
       "      <th>Price</th>\n",
       "      <th>Age</th>\n",
       "      <th>Education</th>\n",
       "    </tr>\n",
       "  </thead>\n",
       "  <tbody>\n",
       "    <tr>\n",
       "      <th>count</th>\n",
       "      <td>400.000000</td>\n",
       "      <td>400.000000</td>\n",
       "      <td>400.000000</td>\n",
       "      <td>400.000000</td>\n",
       "      <td>400.000000</td>\n",
       "      <td>400.000000</td>\n",
       "      <td>400.000000</td>\n",
       "      <td>400.000000</td>\n",
       "    </tr>\n",
       "    <tr>\n",
       "      <th>mean</th>\n",
       "      <td>7.496325</td>\n",
       "      <td>124.975000</td>\n",
       "      <td>68.657500</td>\n",
       "      <td>6.635000</td>\n",
       "      <td>264.840000</td>\n",
       "      <td>115.795000</td>\n",
       "      <td>53.322500</td>\n",
       "      <td>13.900000</td>\n",
       "    </tr>\n",
       "    <tr>\n",
       "      <th>std</th>\n",
       "      <td>2.824115</td>\n",
       "      <td>15.334512</td>\n",
       "      <td>27.986037</td>\n",
       "      <td>6.650364</td>\n",
       "      <td>147.376436</td>\n",
       "      <td>23.676664</td>\n",
       "      <td>16.200297</td>\n",
       "      <td>2.620528</td>\n",
       "    </tr>\n",
       "    <tr>\n",
       "      <th>min</th>\n",
       "      <td>0.000000</td>\n",
       "      <td>77.000000</td>\n",
       "      <td>21.000000</td>\n",
       "      <td>0.000000</td>\n",
       "      <td>10.000000</td>\n",
       "      <td>24.000000</td>\n",
       "      <td>25.000000</td>\n",
       "      <td>10.000000</td>\n",
       "    </tr>\n",
       "    <tr>\n",
       "      <th>25%</th>\n",
       "      <td>5.390000</td>\n",
       "      <td>115.000000</td>\n",
       "      <td>42.750000</td>\n",
       "      <td>0.000000</td>\n",
       "      <td>139.000000</td>\n",
       "      <td>100.000000</td>\n",
       "      <td>39.750000</td>\n",
       "      <td>12.000000</td>\n",
       "    </tr>\n",
       "    <tr>\n",
       "      <th>50%</th>\n",
       "      <td>7.490000</td>\n",
       "      <td>125.000000</td>\n",
       "      <td>69.000000</td>\n",
       "      <td>5.000000</td>\n",
       "      <td>272.000000</td>\n",
       "      <td>117.000000</td>\n",
       "      <td>54.500000</td>\n",
       "      <td>14.000000</td>\n",
       "    </tr>\n",
       "    <tr>\n",
       "      <th>75%</th>\n",
       "      <td>9.320000</td>\n",
       "      <td>135.000000</td>\n",
       "      <td>91.000000</td>\n",
       "      <td>12.000000</td>\n",
       "      <td>398.500000</td>\n",
       "      <td>131.000000</td>\n",
       "      <td>66.000000</td>\n",
       "      <td>16.000000</td>\n",
       "    </tr>\n",
       "    <tr>\n",
       "      <th>max</th>\n",
       "      <td>16.270000</td>\n",
       "      <td>175.000000</td>\n",
       "      <td>120.000000</td>\n",
       "      <td>29.000000</td>\n",
       "      <td>509.000000</td>\n",
       "      <td>191.000000</td>\n",
       "      <td>80.000000</td>\n",
       "      <td>18.000000</td>\n",
       "    </tr>\n",
       "  </tbody>\n",
       "</table>\n",
       "</div>"
      ],
      "text/plain": [
       "            Sales   CompPrice      Income  Advertising  Population  \\\n",
       "count  400.000000  400.000000  400.000000   400.000000  400.000000   \n",
       "mean     7.496325  124.975000   68.657500     6.635000  264.840000   \n",
       "std      2.824115   15.334512   27.986037     6.650364  147.376436   \n",
       "min      0.000000   77.000000   21.000000     0.000000   10.000000   \n",
       "25%      5.390000  115.000000   42.750000     0.000000  139.000000   \n",
       "50%      7.490000  125.000000   69.000000     5.000000  272.000000   \n",
       "75%      9.320000  135.000000   91.000000    12.000000  398.500000   \n",
       "max     16.270000  175.000000  120.000000    29.000000  509.000000   \n",
       "\n",
       "            Price         Age   Education  \n",
       "count  400.000000  400.000000  400.000000  \n",
       "mean   115.795000   53.322500   13.900000  \n",
       "std     23.676664   16.200297    2.620528  \n",
       "min     24.000000   25.000000   10.000000  \n",
       "25%    100.000000   39.750000   12.000000  \n",
       "50%    117.000000   54.500000   14.000000  \n",
       "75%    131.000000   66.000000   16.000000  \n",
       "max    191.000000   80.000000   18.000000  "
      ]
     },
     "execution_count": 5,
     "metadata": {},
     "output_type": "execute_result"
    }
   ],
   "source": [
    "Data.describe()"
   ]
  },
  {
   "cell_type": "code",
   "execution_count": 6,
   "id": "abd34a77",
   "metadata": {},
   "outputs": [
    {
     "data": {
      "text/plain": [
       "Sales             0.0\n",
       "CompPrice         139\n",
       "Income             24\n",
       "Advertising         0\n",
       "Population        358\n",
       "Price             185\n",
       "ShelveLoc      Medium\n",
       "Age                79\n",
       "Education          15\n",
       "Urban              No\n",
       "US                 No\n",
       "Name: 174, dtype: object"
      ]
     },
     "execution_count": 6,
     "metadata": {},
     "output_type": "execute_result"
    }
   ],
   "source": [
    "Data.iloc[174,:]"
   ]
  },
  {
   "cell_type": "markdown",
   "id": "9d24627d",
   "metadata": {},
   "source": [
    "### EDA"
   ]
  },
  {
   "cell_type": "code",
   "execution_count": 7,
   "id": "c79fdea8",
   "metadata": {},
   "outputs": [
    {
     "data": {
      "image/png": "[encoded data removed]",
      "text/plain": [
       "<Figure size 1000x1000 with 8 Axes>"
      ]
     },
     "metadata": {},
     "output_type": "display_data"
    }
   ],
   "source": [
    "fig,axs=plt.subplots(2,4,figsize=(10,10))\n",
    "axs[0][0].hist(Data[\"Sales\"])\n",
    "axs[0][0].set_title(\"Sales\")\n",
    "axs[0][1].hist(Data[\"CompPrice\"])\n",
    "axs[0][1].set_title(\"CompPrice\")\n",
    "axs[0][2].hist((Data[\"Income\"]))\n",
    "axs[0][2].set_title(\"Income\")\n",
    "axs[0][3].hist((Data[\"Advertising\"]))\n",
    "axs[0][3].set_title(\"Advertisisng\")\n",
    "axs[1][0].hist(Data[\"Population\"])\n",
    "axs[1][0].set_title(\"Population\")\n",
    "axs[1][1].hist(Data[\"Price\"])\n",
    "axs[1][1].set_title(\"Price\")\n",
    "axs[1][2].hist(Data[\"Age\"])\n",
    "axs[1][2].set_title(\"Age\")\n",
    "axs[1][3].hist(Data[\"Education\"])\n",
    "axs[1][3].set_title(\"Education\")\n",
    "plt.show()"
   ]
  },
  {
   "cell_type": "code",
   "execution_count": 8,
   "id": "98dc208f",
   "metadata": {},
   "outputs": [
    {
     "data": {
      "text/plain": [
       "<matplotlib.legend.Legend at 0x1f01591afd0>"
      ]
     },
     "execution_count": 8,
     "metadata": {},
     "output_type": "execute_result"
    },
    {
     "data": {
      "image/png": "[encoded data removed]",
      "text/plain": [
       "<Figure size 640x480 with 2 Axes>"
      ]
     },
     "metadata": {},
     "output_type": "display_data"
    }
   ],
   "source": [
    "fig,axs=plt.subplots(1,2)\n",
    "axs[0].plot(Data[\"Sales\"],label=\"Sales\",color='green')\n",
    "axs[0].axhline(Data[\"Sales\"].mean(),color='b',linestyle=\"--\",label=\"Mean sales\")\n",
    "axs[0].set_title(\"Sales\")\n",
    "axs[0].legend(loc=\"lower right\")\n",
    "axs[1].boxplot(Data[\"Sales\"])\n",
    "axs[1].axhline(Data[\"Sales\"].mean(),color='g',linestyle=\"--\",label=\"Mean Sales\")\n",
    "axs[1].set_title(\"Box plot of Sales\")\n",
    "axs[1].legend(loc=\"lower right\")"
   ]
  },
  {
   "cell_type": "code",
   "execution_count": 9,
   "id": "b4b48200",
   "metadata": {},
   "outputs": [
    {
     "data": {
      "text/plain": [
       "7.49"
      ]
     },
     "execution_count": 9,
     "metadata": {},
     "output_type": "execute_result"
    }
   ],
   "source": [
    "stats.median(Data[\"Sales\"])"
   ]
  },
  {
   "cell_type": "markdown",
   "id": "ef9a95bb",
   "metadata": {},
   "source": [
    "### LABELLING THE SALES TO 3 CATEGORIES"
   ]
  },
  {
   "cell_type": "markdown",
   "id": "6baa6998",
   "metadata": {},
   "source": [
    "###### Let us make category of sales as per Box plot distribution of Quantiles\n",
    "###### below 1st Quartile====Category LOW\n",
    "###### Within Inter Quartile====Category GOOD\n",
    "###### Above 3rd Quartile====Category EXCELLENT"
   ]
  },
  {
   "cell_type": "code",
   "execution_count": 10,
   "id": "ef611ce0",
   "metadata": {},
   "outputs": [
    {
     "data": {
      "text/plain": [
       "count    400.000000\n",
       "mean       7.496325\n",
       "std        2.824115\n",
       "min        0.000000\n",
       "25%        5.390000\n",
       "50%        7.490000\n",
       "75%        9.320000\n",
       "max       16.270000\n",
       "Name: Sales, dtype: float64"
      ]
     },
     "execution_count": 10,
     "metadata": {},
     "output_type": "execute_result"
    }
   ],
   "source": [
    "Data[\"Sales\"].describe()"
   ]
  },
  {
   "cell_type": "code",
   "execution_count": 11,
   "id": "5f27564a",
   "metadata": {},
   "outputs": [
    {
     "name": "stdout",
     "output_type": "stream",
     "text": [
      "<class 'pandas.core.series.Series'>\n",
      "RangeIndex: 400 entries, 0 to 399\n",
      "Series name: Sales\n",
      "Non-Null Count  Dtype  \n",
      "--------------  -----  \n",
      "400 non-null    float64\n",
      "dtypes: float64(1)\n",
      "memory usage: 3.2 KB\n"
     ]
    }
   ],
   "source": [
    "Data[\"Sales\"].info()"
   ]
  },
  {
   "cell_type": "code",
   "execution_count": 12,
   "id": "38081216",
   "metadata": {},
   "outputs": [],
   "source": [
    "Data[\"Sales\"]=pd.cut(Data[\"Sales\"],bins=[0.000,5.39,9.32,16.27],\n",
    "                     labels=[\"Low\",\"Good\",\"Excellent\"])"
   ]
  },
  {
   "cell_type": "code",
   "execution_count": 13,
   "id": "4686e100",
   "metadata": {},
   "outputs": [
    {
     "data": {
      "text/html": [
       "<div>\n",
       "<style scoped>\n",
       "    .dataframe tbody tr th:only-of-type {\n",
       "        vertical-align: middle;\n",
       "    }\n",
       "\n",
       "    .dataframe tbody tr th {\n",
       "        vertical-align: top;\n",
       "    }\n",
       "\n",
       "    .dataframe thead th {\n",
       "        text-align: right;\n",
       "    }\n",
       "</style>\n",
       "<table border=\"1\" class=\"dataframe\">\n",
       "  <thead>\n",
       "    <tr style=\"text-align: right;\">\n",
       "      <th></th>\n",
       "      <th>Sales</th>\n",
       "      <th>CompPrice</th>\n",
       "      <th>Income</th>\n",
       "      <th>Advertising</th>\n",
       "      <th>Population</th>\n",
       "      <th>Price</th>\n",
       "      <th>ShelveLoc</th>\n",
       "      <th>Age</th>\n",
       "      <th>Education</th>\n",
       "      <th>Urban</th>\n",
       "      <th>US</th>\n",
       "    </tr>\n",
       "  </thead>\n",
       "  <tbody>\n",
       "    <tr>\n",
       "      <th>0</th>\n",
       "      <td>Excellent</td>\n",
       "      <td>138</td>\n",
       "      <td>73</td>\n",
       "      <td>11</td>\n",
       "      <td>276</td>\n",
       "      <td>120</td>\n",
       "      <td>Bad</td>\n",
       "      <td>42</td>\n",
       "      <td>17</td>\n",
       "      <td>Yes</td>\n",
       "      <td>Yes</td>\n",
       "    </tr>\n",
       "    <tr>\n",
       "      <th>1</th>\n",
       "      <td>Excellent</td>\n",
       "      <td>111</td>\n",
       "      <td>48</td>\n",
       "      <td>16</td>\n",
       "      <td>260</td>\n",
       "      <td>83</td>\n",
       "      <td>Good</td>\n",
       "      <td>65</td>\n",
       "      <td>10</td>\n",
       "      <td>Yes</td>\n",
       "      <td>Yes</td>\n",
       "    </tr>\n",
       "    <tr>\n",
       "      <th>2</th>\n",
       "      <td>Excellent</td>\n",
       "      <td>113</td>\n",
       "      <td>35</td>\n",
       "      <td>10</td>\n",
       "      <td>269</td>\n",
       "      <td>80</td>\n",
       "      <td>Medium</td>\n",
       "      <td>59</td>\n",
       "      <td>12</td>\n",
       "      <td>Yes</td>\n",
       "      <td>Yes</td>\n",
       "    </tr>\n",
       "    <tr>\n",
       "      <th>3</th>\n",
       "      <td>Good</td>\n",
       "      <td>117</td>\n",
       "      <td>100</td>\n",
       "      <td>4</td>\n",
       "      <td>466</td>\n",
       "      <td>97</td>\n",
       "      <td>Medium</td>\n",
       "      <td>55</td>\n",
       "      <td>14</td>\n",
       "      <td>Yes</td>\n",
       "      <td>Yes</td>\n",
       "    </tr>\n",
       "    <tr>\n",
       "      <th>4</th>\n",
       "      <td>Low</td>\n",
       "      <td>141</td>\n",
       "      <td>64</td>\n",
       "      <td>3</td>\n",
       "      <td>340</td>\n",
       "      <td>128</td>\n",
       "      <td>Bad</td>\n",
       "      <td>38</td>\n",
       "      <td>13</td>\n",
       "      <td>Yes</td>\n",
       "      <td>No</td>\n",
       "    </tr>\n",
       "    <tr>\n",
       "      <th>...</th>\n",
       "      <td>...</td>\n",
       "      <td>...</td>\n",
       "      <td>...</td>\n",
       "      <td>...</td>\n",
       "      <td>...</td>\n",
       "      <td>...</td>\n",
       "      <td>...</td>\n",
       "      <td>...</td>\n",
       "      <td>...</td>\n",
       "      <td>...</td>\n",
       "      <td>...</td>\n",
       "    </tr>\n",
       "    <tr>\n",
       "      <th>395</th>\n",
       "      <td>Excellent</td>\n",
       "      <td>138</td>\n",
       "      <td>108</td>\n",
       "      <td>17</td>\n",
       "      <td>203</td>\n",
       "      <td>128</td>\n",
       "      <td>Good</td>\n",
       "      <td>33</td>\n",
       "      <td>14</td>\n",
       "      <td>Yes</td>\n",
       "      <td>Yes</td>\n",
       "    </tr>\n",
       "    <tr>\n",
       "      <th>396</th>\n",
       "      <td>Good</td>\n",
       "      <td>139</td>\n",
       "      <td>23</td>\n",
       "      <td>3</td>\n",
       "      <td>37</td>\n",
       "      <td>120</td>\n",
       "      <td>Medium</td>\n",
       "      <td>55</td>\n",
       "      <td>11</td>\n",
       "      <td>No</td>\n",
       "      <td>Yes</td>\n",
       "    </tr>\n",
       "    <tr>\n",
       "      <th>397</th>\n",
       "      <td>Good</td>\n",
       "      <td>162</td>\n",
       "      <td>26</td>\n",
       "      <td>12</td>\n",
       "      <td>368</td>\n",
       "      <td>159</td>\n",
       "      <td>Medium</td>\n",
       "      <td>40</td>\n",
       "      <td>18</td>\n",
       "      <td>Yes</td>\n",
       "      <td>Yes</td>\n",
       "    </tr>\n",
       "    <tr>\n",
       "      <th>398</th>\n",
       "      <td>Good</td>\n",
       "      <td>100</td>\n",
       "      <td>79</td>\n",
       "      <td>7</td>\n",
       "      <td>284</td>\n",
       "      <td>95</td>\n",
       "      <td>Bad</td>\n",
       "      <td>50</td>\n",
       "      <td>12</td>\n",
       "      <td>Yes</td>\n",
       "      <td>Yes</td>\n",
       "    </tr>\n",
       "    <tr>\n",
       "      <th>399</th>\n",
       "      <td>Excellent</td>\n",
       "      <td>134</td>\n",
       "      <td>37</td>\n",
       "      <td>0</td>\n",
       "      <td>27</td>\n",
       "      <td>120</td>\n",
       "      <td>Good</td>\n",
       "      <td>49</td>\n",
       "      <td>16</td>\n",
       "      <td>Yes</td>\n",
       "      <td>Yes</td>\n",
       "    </tr>\n",
       "  </tbody>\n",
       "</table>\n",
       "<p>400 rows × 11 columns</p>\n",
       "</div>"
      ],
      "text/plain": [
       "         Sales  CompPrice  Income  Advertising  Population  Price ShelveLoc  \\\n",
       "0    Excellent        138      73           11         276    120       Bad   \n",
       "1    Excellent        111      48           16         260     83      Good   \n",
       "2    Excellent        113      35           10         269     80    Medium   \n",
       "3         Good        117     100            4         466     97    Medium   \n",
       "4          Low        141      64            3         340    128       Bad   \n",
       "..         ...        ...     ...          ...         ...    ...       ...   \n",
       "395  Excellent        138     108           17         203    128      Good   \n",
       "396       Good        139      23            3          37    120    Medium   \n",
       "397       Good        162      26           12         368    159    Medium   \n",
       "398       Good        100      79            7         284     95       Bad   \n",
       "399  Excellent        134      37            0          27    120      Good   \n",
       "\n",
       "     Age  Education Urban   US  \n",
       "0     42         17   Yes  Yes  \n",
       "1     65         10   Yes  Yes  \n",
       "2     59         12   Yes  Yes  \n",
       "3     55         14   Yes  Yes  \n",
       "4     38         13   Yes   No  \n",
       "..   ...        ...   ...  ...  \n",
       "395   33         14   Yes  Yes  \n",
       "396   55         11    No  Yes  \n",
       "397   40         18   Yes  Yes  \n",
       "398   50         12   Yes  Yes  \n",
       "399   49         16   Yes  Yes  \n",
       "\n",
       "[400 rows x 11 columns]"
      ]
     },
     "execution_count": 13,
     "metadata": {},
     "output_type": "execute_result"
    }
   ],
   "source": [
    "Data"
   ]
  },
  {
   "cell_type": "code",
   "execution_count": 14,
   "id": "59743792",
   "metadata": {},
   "outputs": [
    {
     "data": {
      "text/html": [
       "<div>\n",
       "<style scoped>\n",
       "    .dataframe tbody tr th:only-of-type {\n",
       "        vertical-align: middle;\n",
       "    }\n",
       "\n",
       "    .dataframe tbody tr th {\n",
       "        vertical-align: top;\n",
       "    }\n",
       "\n",
       "    .dataframe thead th {\n",
       "        text-align: right;\n",
       "    }\n",
       "</style>\n",
       "<table border=\"1\" class=\"dataframe\">\n",
       "  <thead>\n",
       "    <tr style=\"text-align: right;\">\n",
       "      <th></th>\n",
       "      <th>Sales</th>\n",
       "      <th>CompPrice</th>\n",
       "      <th>Income</th>\n",
       "      <th>Advertising</th>\n",
       "      <th>Population</th>\n",
       "      <th>Price</th>\n",
       "      <th>ShelveLoc</th>\n",
       "      <th>Age</th>\n",
       "      <th>Education</th>\n",
       "      <th>Urban</th>\n",
       "      <th>US</th>\n",
       "    </tr>\n",
       "  </thead>\n",
       "  <tbody>\n",
       "    <tr>\n",
       "      <th>174</th>\n",
       "      <td>NaN</td>\n",
       "      <td>139</td>\n",
       "      <td>24</td>\n",
       "      <td>0</td>\n",
       "      <td>358</td>\n",
       "      <td>185</td>\n",
       "      <td>Medium</td>\n",
       "      <td>79</td>\n",
       "      <td>15</td>\n",
       "      <td>No</td>\n",
       "      <td>No</td>\n",
       "    </tr>\n",
       "  </tbody>\n",
       "</table>\n",
       "</div>"
      ],
      "text/plain": [
       "    Sales  CompPrice  Income  Advertising  Population  Price ShelveLoc  Age  \\\n",
       "174   NaN        139      24            0         358    185    Medium   79   \n",
       "\n",
       "     Education Urban  US  \n",
       "174         15    No  No  "
      ]
     },
     "execution_count": 14,
     "metadata": {},
     "output_type": "execute_result"
    }
   ],
   "source": [
    "Data[Data[\"Sales\"].isnull()]"
   ]
  },
  {
   "cell_type": "code",
   "execution_count": 15,
   "id": "94a1c234",
   "metadata": {},
   "outputs": [],
   "source": [
    "Data.iloc[174,0]=\"Low\""
   ]
  },
  {
   "cell_type": "code",
   "execution_count": 16,
   "id": "8713d9c3",
   "metadata": {},
   "outputs": [
    {
     "data": {
      "image/png": "[encoded data removed]",
      "text/plain": [
       "<Figure size 640x480 with 1 Axes>"
      ]
     },
     "metadata": {},
     "output_type": "display_data"
    }
   ],
   "source": [
    "plt.pie(Data[\"Sales\"].value_counts(),labels=[\"Low\",\"Good\",\"Excellent\"],autopct='%1.1f%%')\n",
    "plt.show()"
   ]
  },
  {
   "cell_type": "code",
   "execution_count": null,
   "id": "60f6ef93",
   "metadata": {},
   "outputs": [],
   "source": []
  },
  {
   "cell_type": "markdown",
   "id": "d46d3d34",
   "metadata": {},
   "source": [
    "### Assigning Dummy variables to Shelveloc,Urban,US"
   ]
  },
  {
   "cell_type": "code",
   "execution_count": 17,
   "id": "442c376d",
   "metadata": {},
   "outputs": [],
   "source": [
    "Data=pd.get_dummies(Data,columns=[\"ShelveLoc\",\"Urban\",\"US\"])"
   ]
  },
  {
   "cell_type": "code",
   "execution_count": null,
   "id": "e7a06c60",
   "metadata": {},
   "outputs": [],
   "source": []
  },
  {
   "cell_type": "markdown",
   "id": "96eeb016",
   "metadata": {},
   "source": [
    "### Label Encoding for each categories is Sales Feature"
   ]
  },
  {
   "cell_type": "code",
   "execution_count": 18,
   "id": "1a3c7f6e",
   "metadata": {},
   "outputs": [],
   "source": [
    "Data[\"Sales\"]=LabelEncoder().fit_transform(Data[\"Sales\"])"
   ]
  },
  {
   "cell_type": "code",
   "execution_count": 19,
   "id": "7f13c9ca",
   "metadata": {},
   "outputs": [
    {
     "data": {
      "text/plain": [
       "array([0, 1, 2])"
      ]
     },
     "execution_count": 19,
     "metadata": {},
     "output_type": "execute_result"
    }
   ],
   "source": [
    "Data[\"Sales\"].unique()"
   ]
  },
  {
   "cell_type": "code",
   "execution_count": 20,
   "id": "25cfb6a1",
   "metadata": {},
   "outputs": [],
   "source": [
    "Y=Data[\"Sales\"]\n",
    "X=Data.iloc[:,1:]"
   ]
  },
  {
   "cell_type": "code",
   "execution_count": 21,
   "id": "a43a5871",
   "metadata": {},
   "outputs": [
    {
     "data": {
      "text/plain": [
       "array([0, 1, 2])"
      ]
     },
     "execution_count": 21,
     "metadata": {},
     "output_type": "execute_result"
    }
   ],
   "source": [
    "Y.unique()"
   ]
  },
  {
   "cell_type": "markdown",
   "id": "63e7661d",
   "metadata": {},
   "source": [
    "## Model with Train Test Sampling"
   ]
  },
  {
   "cell_type": "code",
   "execution_count": 22,
   "id": "524eaa2d",
   "metadata": {},
   "outputs": [],
   "source": [
    "X_train,X_test,Y_train,Y_test=train_test_split(X,Y,test_size=0.2,random_state=42)"
   ]
  },
  {
   "cell_type": "code",
   "execution_count": 23,
   "id": "50302d3d",
   "metadata": {},
   "outputs": [
    {
     "data": {
      "text/html": [
       "<div>\n",
       "<style scoped>\n",
       "    .dataframe tbody tr th:only-of-type {\n",
       "        vertical-align: middle;\n",
       "    }\n",
       "\n",
       "    .dataframe tbody tr th {\n",
       "        vertical-align: top;\n",
       "    }\n",
       "\n",
       "    .dataframe thead th {\n",
       "        text-align: right;\n",
       "    }\n",
       "</style>\n",
       "<table border=\"1\" class=\"dataframe\">\n",
       "  <thead>\n",
       "    <tr style=\"text-align: right;\">\n",
       "      <th></th>\n",
       "      <th>CompPrice</th>\n",
       "      <th>Income</th>\n",
       "      <th>Advertising</th>\n",
       "      <th>Population</th>\n",
       "      <th>Price</th>\n",
       "      <th>Age</th>\n",
       "      <th>Education</th>\n",
       "      <th>ShelveLoc_Bad</th>\n",
       "      <th>ShelveLoc_Good</th>\n",
       "      <th>ShelveLoc_Medium</th>\n",
       "      <th>Urban_No</th>\n",
       "      <th>Urban_Yes</th>\n",
       "      <th>US_No</th>\n",
       "      <th>US_Yes</th>\n",
       "    </tr>\n",
       "  </thead>\n",
       "  <tbody>\n",
       "    <tr>\n",
       "      <th>0</th>\n",
       "      <td>138</td>\n",
       "      <td>73</td>\n",
       "      <td>11</td>\n",
       "      <td>276</td>\n",
       "      <td>120</td>\n",
       "      <td>42</td>\n",
       "      <td>17</td>\n",
       "      <td>1</td>\n",
       "      <td>0</td>\n",
       "      <td>0</td>\n",
       "      <td>0</td>\n",
       "      <td>1</td>\n",
       "      <td>0</td>\n",
       "      <td>1</td>\n",
       "    </tr>\n",
       "    <tr>\n",
       "      <th>1</th>\n",
       "      <td>111</td>\n",
       "      <td>48</td>\n",
       "      <td>16</td>\n",
       "      <td>260</td>\n",
       "      <td>83</td>\n",
       "      <td>65</td>\n",
       "      <td>10</td>\n",
       "      <td>0</td>\n",
       "      <td>1</td>\n",
       "      <td>0</td>\n",
       "      <td>0</td>\n",
       "      <td>1</td>\n",
       "      <td>0</td>\n",
       "      <td>1</td>\n",
       "    </tr>\n",
       "    <tr>\n",
       "      <th>2</th>\n",
       "      <td>113</td>\n",
       "      <td>35</td>\n",
       "      <td>10</td>\n",
       "      <td>269</td>\n",
       "      <td>80</td>\n",
       "      <td>59</td>\n",
       "      <td>12</td>\n",
       "      <td>0</td>\n",
       "      <td>0</td>\n",
       "      <td>1</td>\n",
       "      <td>0</td>\n",
       "      <td>1</td>\n",
       "      <td>0</td>\n",
       "      <td>1</td>\n",
       "    </tr>\n",
       "    <tr>\n",
       "      <th>3</th>\n",
       "      <td>117</td>\n",
       "      <td>100</td>\n",
       "      <td>4</td>\n",
       "      <td>466</td>\n",
       "      <td>97</td>\n",
       "      <td>55</td>\n",
       "      <td>14</td>\n",
       "      <td>0</td>\n",
       "      <td>0</td>\n",
       "      <td>1</td>\n",
       "      <td>0</td>\n",
       "      <td>1</td>\n",
       "      <td>0</td>\n",
       "      <td>1</td>\n",
       "    </tr>\n",
       "    <tr>\n",
       "      <th>4</th>\n",
       "      <td>141</td>\n",
       "      <td>64</td>\n",
       "      <td>3</td>\n",
       "      <td>340</td>\n",
       "      <td>128</td>\n",
       "      <td>38</td>\n",
       "      <td>13</td>\n",
       "      <td>1</td>\n",
       "      <td>0</td>\n",
       "      <td>0</td>\n",
       "      <td>0</td>\n",
       "      <td>1</td>\n",
       "      <td>1</td>\n",
       "      <td>0</td>\n",
       "    </tr>\n",
       "    <tr>\n",
       "      <th>...</th>\n",
       "      <td>...</td>\n",
       "      <td>...</td>\n",
       "      <td>...</td>\n",
       "      <td>...</td>\n",
       "      <td>...</td>\n",
       "      <td>...</td>\n",
       "      <td>...</td>\n",
       "      <td>...</td>\n",
       "      <td>...</td>\n",
       "      <td>...</td>\n",
       "      <td>...</td>\n",
       "      <td>...</td>\n",
       "      <td>...</td>\n",
       "      <td>...</td>\n",
       "    </tr>\n",
       "    <tr>\n",
       "      <th>395</th>\n",
       "      <td>138</td>\n",
       "      <td>108</td>\n",
       "      <td>17</td>\n",
       "      <td>203</td>\n",
       "      <td>128</td>\n",
       "      <td>33</td>\n",
       "      <td>14</td>\n",
       "      <td>0</td>\n",
       "      <td>1</td>\n",
       "      <td>0</td>\n",
       "      <td>0</td>\n",
       "      <td>1</td>\n",
       "      <td>0</td>\n",
       "      <td>1</td>\n",
       "    </tr>\n",
       "    <tr>\n",
       "      <th>396</th>\n",
       "      <td>139</td>\n",
       "      <td>23</td>\n",
       "      <td>3</td>\n",
       "      <td>37</td>\n",
       "      <td>120</td>\n",
       "      <td>55</td>\n",
       "      <td>11</td>\n",
       "      <td>0</td>\n",
       "      <td>0</td>\n",
       "      <td>1</td>\n",
       "      <td>1</td>\n",
       "      <td>0</td>\n",
       "      <td>0</td>\n",
       "      <td>1</td>\n",
       "    </tr>\n",
       "    <tr>\n",
       "      <th>397</th>\n",
       "      <td>162</td>\n",
       "      <td>26</td>\n",
       "      <td>12</td>\n",
       "      <td>368</td>\n",
       "      <td>159</td>\n",
       "      <td>40</td>\n",
       "      <td>18</td>\n",
       "      <td>0</td>\n",
       "      <td>0</td>\n",
       "      <td>1</td>\n",
       "      <td>0</td>\n",
       "      <td>1</td>\n",
       "      <td>0</td>\n",
       "      <td>1</td>\n",
       "    </tr>\n",
       "    <tr>\n",
       "      <th>398</th>\n",
       "      <td>100</td>\n",
       "      <td>79</td>\n",
       "      <td>7</td>\n",
       "      <td>284</td>\n",
       "      <td>95</td>\n",
       "      <td>50</td>\n",
       "      <td>12</td>\n",
       "      <td>1</td>\n",
       "      <td>0</td>\n",
       "      <td>0</td>\n",
       "      <td>0</td>\n",
       "      <td>1</td>\n",
       "      <td>0</td>\n",
       "      <td>1</td>\n",
       "    </tr>\n",
       "    <tr>\n",
       "      <th>399</th>\n",
       "      <td>134</td>\n",
       "      <td>37</td>\n",
       "      <td>0</td>\n",
       "      <td>27</td>\n",
       "      <td>120</td>\n",
       "      <td>49</td>\n",
       "      <td>16</td>\n",
       "      <td>0</td>\n",
       "      <td>1</td>\n",
       "      <td>0</td>\n",
       "      <td>0</td>\n",
       "      <td>1</td>\n",
       "      <td>0</td>\n",
       "      <td>1</td>\n",
       "    </tr>\n",
       "  </tbody>\n",
       "</table>\n",
       "<p>400 rows × 14 columns</p>\n",
       "</div>"
      ],
      "text/plain": [
       "     CompPrice  Income  Advertising  Population  Price  Age  Education  \\\n",
       "0          138      73           11         276    120   42         17   \n",
       "1          111      48           16         260     83   65         10   \n",
       "2          113      35           10         269     80   59         12   \n",
       "3          117     100            4         466     97   55         14   \n",
       "4          141      64            3         340    128   38         13   \n",
       "..         ...     ...          ...         ...    ...  ...        ...   \n",
       "395        138     108           17         203    128   33         14   \n",
       "396        139      23            3          37    120   55         11   \n",
       "397        162      26           12         368    159   40         18   \n",
       "398        100      79            7         284     95   50         12   \n",
       "399        134      37            0          27    120   49         16   \n",
       "\n",
       "     ShelveLoc_Bad  ShelveLoc_Good  ShelveLoc_Medium  Urban_No  Urban_Yes  \\\n",
       "0                1               0                 0         0          1   \n",
       "1                0               1                 0         0          1   \n",
       "2                0               0                 1         0          1   \n",
       "3                0               0                 1         0          1   \n",
       "4                1               0                 0         0          1   \n",
       "..             ...             ...               ...       ...        ...   \n",
       "395              0               1                 0         0          1   \n",
       "396              0               0                 1         1          0   \n",
       "397              0               0                 1         0          1   \n",
       "398              1               0                 0         0          1   \n",
       "399              0               1                 0         0          1   \n",
       "\n",
       "     US_No  US_Yes  \n",
       "0        0       1  \n",
       "1        0       1  \n",
       "2        0       1  \n",
       "3        0       1  \n",
       "4        1       0  \n",
       "..     ...     ...  \n",
       "395      0       1  \n",
       "396      0       1  \n",
       "397      0       1  \n",
       "398      0       1  \n",
       "399      0       1  \n",
       "\n",
       "[400 rows x 14 columns]"
      ]
     },
     "execution_count": 23,
     "metadata": {},
     "output_type": "execute_result"
    }
   ],
   "source": [
    "X"
   ]
  },
  {
   "cell_type": "markdown",
   "id": "33271685",
   "metadata": {},
   "source": [
    "### Hyper Parameter tuning for Randomforest using Grid Search CV"
   ]
  },
  {
   "cell_type": "code",
   "execution_count": 24,
   "id": "f6c8f824",
   "metadata": {},
   "outputs": [],
   "source": [
    "est=RandomForestClassifier(max_depth=10,min_samples_split=2,random_state=42)\n",
    "params={\"criterion\":('gini','entropy'),\"n_estimators\":(1,100,5),\"max_features\": (\"auto\", \"sqrt\", \"log2\")}"
   ]
  },
  {
   "cell_type": "code",
   "execution_count": 25,
   "id": "0cf5ab8f",
   "metadata": {},
   "outputs": [],
   "source": [
    "gcv=GridSearchCV(estimator=est,param_grid=params,cv=5)"
   ]
  },
  {
   "cell_type": "markdown",
   "id": "dd759d9e",
   "metadata": {},
   "source": [
    "## Model Building with train test split method"
   ]
  },
  {
   "cell_type": "code",
   "execution_count": 26,
   "id": "5770e3f8",
   "metadata": {},
   "outputs": [],
   "source": [
    "modelgcv=gcv.fit(X_train,Y_train)"
   ]
  },
  {
   "cell_type": "code",
   "execution_count": 27,
   "id": "b72d3f70",
   "metadata": {},
   "outputs": [
    {
     "name": "stdout",
     "output_type": "stream",
     "text": [
      "Parameters: {'criterion': 'entropy', 'max_features': 'sqrt', 'n_estimators': 100} Score: 0.634375\n",
      "Parameters: {'criterion': 'entropy', 'max_features': 'auto', 'n_estimators': 100} Score: 0.634375\n",
      "Parameters: {'criterion': 'entropy', 'max_features': 'log2', 'n_estimators': 100} Score: 0.634375\n",
      "Parameters: {'criterion': 'gini', 'max_features': 'auto', 'n_estimators': 100} Score: 0.621875\n",
      "Parameters: {'criterion': 'gini', 'max_features': 'sqrt', 'n_estimators': 100} Score: 0.621875\n",
      "Parameters: {'criterion': 'gini', 'max_features': 'log2', 'n_estimators': 100} Score: 0.621875\n",
      "Parameters: {'criterion': 'entropy', 'max_features': 'log2', 'n_estimators': 5} Score: 0.58125\n",
      "Parameters: {'criterion': 'entropy', 'max_features': 'sqrt', 'n_estimators': 5} Score: 0.58125\n",
      "Parameters: {'criterion': 'entropy', 'max_features': 'auto', 'n_estimators': 5} Score: 0.58125\n",
      "Parameters: {'criterion': 'gini', 'max_features': 'sqrt', 'n_estimators': 5} Score: 0.56875\n",
      "Parameters: {'criterion': 'gini', 'max_features': 'auto', 'n_estimators': 5} Score: 0.56875\n",
      "Parameters: {'criterion': 'gini', 'max_features': 'log2', 'n_estimators': 5} Score: 0.56875\n",
      "Parameters: {'criterion': 'entropy', 'max_features': 'auto', 'n_estimators': 1} Score: 0.565625\n",
      "Parameters: {'criterion': 'entropy', 'max_features': 'sqrt', 'n_estimators': 1} Score: 0.565625\n",
      "Parameters: {'criterion': 'entropy', 'max_features': 'log2', 'n_estimators': 1} Score: 0.565625\n",
      "Parameters: {'criterion': 'gini', 'max_features': 'log2', 'n_estimators': 1} Score: 0.521875\n",
      "Parameters: {'criterion': 'gini', 'max_features': 'sqrt', 'n_estimators': 1} Score: 0.521875\n",
      "Parameters: {'criterion': 'gini', 'max_features': 'auto', 'n_estimators': 1} Score: 0.521875\n"
     ]
    }
   ],
   "source": [
    "results = gcv.cv_results_\n",
    "best_scores = results['mean_test_score']\n",
    "sorted_indices = best_scores.argsort()[::-1]\n",
    "best_scores = best_scores[sorted_indices]\n",
    "params = [results['params'][i] for i in sorted_indices]\n",
    "\n",
    "# display the best scores for all parameters in descending order\n",
    "for i, score in enumerate(best_scores):\n",
    "    print(\"Parameters:\", params[i], \"Score:\", score)"
   ]
  },
  {
   "cell_type": "code",
   "execution_count": 28,
   "id": "3d0e6a33",
   "metadata": {},
   "outputs": [
    {
     "data": {
      "text/plain": [
       "{'criterion': 'entropy', 'max_features': 'auto', 'n_estimators': 100}"
      ]
     },
     "execution_count": 28,
     "metadata": {},
     "output_type": "execute_result"
    }
   ],
   "source": [
    "gcv.best_params_"
   ]
  },
  {
   "cell_type": "code",
   "execution_count": 29,
   "id": "f3f2bd91",
   "metadata": {},
   "outputs": [
    {
     "data": {
      "text/plain": [
       "0.634375"
      ]
     },
     "execution_count": 29,
     "metadata": {},
     "output_type": "execute_result"
    }
   ],
   "source": [
    "gcv.best_score_"
   ]
  },
  {
   "cell_type": "markdown",
   "id": "23a53d84",
   "metadata": {},
   "source": [
    "## Final model as per Grid Search Cv"
   ]
  },
  {
   "cell_type": "code",
   "execution_count": 30,
   "id": "c79b3580",
   "metadata": {},
   "outputs": [],
   "source": [
    "Model=RandomForestClassifier(criterion='entropy',max_depth=5,min_samples_split=6\n",
    "                             ,n_estimators=100,max_features='auto',random_state=42)"
   ]
  },
  {
   "cell_type": "code",
   "execution_count": 31,
   "id": "18442482",
   "metadata": {},
   "outputs": [
    {
     "data": {
      "text/plain": [
       "RandomForestClassifier(criterion='entropy', max_depth=5, min_samples_split=6,\n",
       "                       random_state=42)"
      ]
     },
     "execution_count": 31,
     "metadata": {},
     "output_type": "execute_result"
    }
   ],
   "source": [
    "Model.fit(X_train,Y_train)"
   ]
  },
  {
   "cell_type": "markdown",
   "id": "c507ae21",
   "metadata": {},
   "source": [
    "##### Training Accuracy"
   ]
  },
  {
   "cell_type": "code",
   "execution_count": 32,
   "id": "c6afba7c",
   "metadata": {},
   "outputs": [
    {
     "name": "stdout",
     "output_type": "stream",
     "text": [
      "0.803125\n"
     ]
    }
   ],
   "source": [
    "print(accuracy_score(Y_train,Model.predict(X_train)))"
   ]
  },
  {
   "cell_type": "code",
   "execution_count": 33,
   "id": "8dfe7518",
   "metadata": {},
   "outputs": [
    {
     "name": "stdout",
     "output_type": "stream",
     "text": [
      "              precision    recall  f1-score   support\n",
      "\n",
      "           0       0.95      0.70      0.80        76\n",
      "           1       0.73      0.97      0.83       161\n",
      "           2       0.96      0.58      0.72        83\n",
      "\n",
      "    accuracy                           0.80       320\n",
      "   macro avg       0.88      0.75      0.79       320\n",
      "weighted avg       0.84      0.80      0.80       320\n",
      "\n"
     ]
    }
   ],
   "source": [
    "print(classification_report(Y_train,Model.predict(X_train)))"
   ]
  },
  {
   "cell_type": "markdown",
   "id": "ddee1165",
   "metadata": {},
   "source": [
    "##### Testing Accuracy"
   ]
  },
  {
   "cell_type": "code",
   "execution_count": 34,
   "id": "999f17f7",
   "metadata": {},
   "outputs": [
    {
     "name": "stdout",
     "output_type": "stream",
     "text": [
      "0.7125\n"
     ]
    }
   ],
   "source": [
    "print(accuracy_score(Y_test,Model.predict(X_test)))"
   ]
  },
  {
   "cell_type": "code",
   "execution_count": 35,
   "id": "86edcab9",
   "metadata": {},
   "outputs": [
    {
     "name": "stdout",
     "output_type": "stream",
     "text": [
      "              precision    recall  f1-score   support\n",
      "\n",
      "           0       0.83      0.65      0.73        23\n",
      "           1       0.68      0.85      0.76        40\n",
      "           2       0.67      0.47      0.55        17\n",
      "\n",
      "    accuracy                           0.71        80\n",
      "   macro avg       0.73      0.66      0.68        80\n",
      "weighted avg       0.72      0.71      0.71        80\n",
      "\n"
     ]
    }
   ],
   "source": [
    "print(classification_report(Y_test,Model.predict(X_test)))"
   ]
  },
  {
   "cell_type": "markdown",
   "id": "469124e2",
   "metadata": {},
   "source": [
    "# Model with KFOLD validation technique"
   ]
  },
  {
   "cell_type": "code",
   "execution_count": 36,
   "id": "20bc818a",
   "metadata": {},
   "outputs": [],
   "source": [
    "kfold = KFold(n_splits=10,shuffle=True, random_state=42)"
   ]
  },
  {
   "cell_type": "code",
   "execution_count": 37,
   "id": "7465f906",
   "metadata": {},
   "outputs": [],
   "source": [
    "Modelkfold=RandomForestClassifier(criterion='entropy',max_depth=5,min_samples_split=6\n",
    "                             ,n_estimators=100,max_features='auto',random_state=42)"
   ]
  },
  {
   "cell_type": "code",
   "execution_count": 38,
   "id": "1f544969",
   "metadata": {},
   "outputs": [
    {
     "name": "stdout",
     "output_type": "stream",
     "text": [
      "0.6525\n"
     ]
    }
   ],
   "source": [
    "results = cross_val_score(Modelkfold, X, Y, cv=kfold)\n",
    "print(results.mean())"
   ]
  },
  {
   "cell_type": "code",
   "execution_count": 39,
   "id": "bcc7c5ad",
   "metadata": {},
   "outputs": [
    {
     "name": "stdout",
     "output_type": "stream",
     "text": [
      "              precision    recall  f1-score   support\n",
      "\n",
      "           0       0.75      0.53      0.62        99\n",
      "           1       0.61      0.84      0.71       201\n",
      "           2       0.71      0.40      0.51       100\n",
      "\n",
      "    accuracy                           0.65       400\n",
      "   macro avg       0.69      0.59      0.61       400\n",
      "weighted avg       0.67      0.65      0.64       400\n",
      "\n"
     ]
    }
   ],
   "source": [
    "y_pred = cross_val_predict(Modelkfold, X, Y, cv=kfold)\n",
    "\n",
    "# Get classification report for predicted target values\n",
    "print(classification_report(Y, y_pred))"
   ]
  },
  {
   "cell_type": "markdown",
   "id": "12562ef1",
   "metadata": {},
   "source": [
    "# Conclusion "
   ]
  },
  {
   "cell_type": "markdown",
   "id": "4dcd4d3a",
   "metadata": {},
   "source": [
    "When using Kfold validation each class accuracy as well as total accuracy improved than train_test_split method"
   ]
  },
  {
   "cell_type": "markdown",
   "id": "3560ee4e",
   "metadata": {},
   "source": [
    "Random forest shows better accuracy than Decision tree."
   ]
  },
  {
   "cell_type": "code",
   "execution_count": null,
   "id": "0617326e",
   "metadata": {},
   "outputs": [],
   "source": []
  }
 ],
 "metadata": {
  "kernelspec": {
   "display_name": "Python 3 (ipykernel)",
   "language": "python",
   "name": "python3"
  },
  "language_info": {
   "codemirror_mode": {
    "name": "ipython",
    "version": 3
   },
   "file_extension": ".py",
   "mimetype": "text/x-python",
   "name": "python",
   "nbconvert_exporter": "python",
   "pygments_lexer": "ipython3",
   "version": "3.9.13"
  }
 },
 "nbformat": 4,
 "nbformat_minor": 5
}
